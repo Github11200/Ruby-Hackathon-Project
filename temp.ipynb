{
 "cells": [
  {
   "cell_type": "code",
   "execution_count": 2,
   "metadata": {},
   "outputs": [],
   "source": [
    "import pandas as pd"
   ]
  },
  {
   "cell_type": "code",
   "execution_count": 3,
   "metadata": {},
   "outputs": [
    {
     "data": {
      "text/plain": [
       "{'product': 'Credit card',\n",
       " 'complaint_what_happened': 'Timely payments are always a priority for me, and I am certain about this. However, I am unsure why this company is reporting me as late in certain months, which should not be the case. According to USC 1666b, any billing error should be corrected, or they will be liable to pay me {$1000.00} for each account reporting inaccurately.',\n",
       " 'date_sent_to_company': '2024-05-14T12:00:00-05:00',\n",
       " 'issue': \"Problem with a company's investigation into an existing problem\",\n",
       " 'sub_product': 'General-purpose credit card or charge card',\n",
       " 'zip_code': '37042',\n",
       " 'tags': None,\n",
       " 'complaint_id': '9005055',\n",
       " 'timely': 'Yes',\n",
       " 'consumer_consent_provided': 'Consent provided',\n",
       " 'company_response': 'Closed with explanation',\n",
       " 'submitted_via': 'Web',\n",
       " 'company': 'EQUIFAX, INC.',\n",
       " 'date_received': '2024-05-14T12:00:00-05:00',\n",
       " 'state': 'TN',\n",
       " 'consumer_disputed': 'N/A',\n",
       " 'company_public_response': None,\n",
       " 'sub_issue': 'Their investigation did not fix an error on your report'}"
      ]
     },
     "execution_count": 3,
     "metadata": {},
     "output_type": "execute_result"
    }
   ],
   "source": [
    "data = pd.read_json('ruby_hackathon_data.json')\n",
    "data['_source'][1]"
   ]
  },
  {
   "cell_type": "code",
   "execution_count": 13,
   "metadata": {},
   "outputs": [],
   "source": [
    "products = {}\n",
    "subProducts = {}\n",
    "\n",
    "for i in range(len(data)):\n",
    "  products[data['_source'][i]['product']] = 0\n",
    "  subProducts[data['_source'][i]['sub_product']] = 0"
   ]
  },
  {
   "cell_type": "code",
   "execution_count": 14,
   "metadata": {},
   "outputs": [
    {
     "data": {
      "text/plain": [
       "{'Credit card': 0}"
      ]
     },
     "execution_count": 14,
     "metadata": {},
     "output_type": "execute_result"
    }
   ],
   "source": [
    "products"
   ]
  },
  {
   "cell_type": "code",
   "execution_count": 15,
   "metadata": {},
   "outputs": [
    {
     "data": {
      "text/plain": [
       "{'Store credit card': 0, 'General-purpose credit card or charge card': 0}"
      ]
     },
     "execution_count": 15,
     "metadata": {},
     "output_type": "execute_result"
    }
   ],
   "source": [
    "subProducts"
   ]
  },
  {
   "cell_type": "code",
   "execution_count": null,
   "metadata": {},
   "outputs": [],
   "source": []
  }
 ],
 "metadata": {
  "kernelspec": {
   "display_name": "base",
   "language": "python",
   "name": "python3"
  },
  "language_info": {
   "codemirror_mode": {
    "name": "ipython",
    "version": 3
   },
   "file_extension": ".py",
   "mimetype": "text/x-python",
   "name": "python",
   "nbconvert_exporter": "python",
   "pygments_lexer": "ipython3",
   "version": "3.12.2"
  }
 },
 "nbformat": 4,
 "nbformat_minor": 2
}
